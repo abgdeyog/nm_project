{
 "cells": [
  {
   "cell_type": "code",
   "execution_count": 47,
   "metadata": {
    "colab": {},
    "colab_type": "code",
    "id": "XJksAs-CCf0E"
   },
   "outputs": [],
   "source": [
    "import numpy as np\n",
    "import matplotlib.pyplot as plt\n",
    "from scipy.sparse import csr_matrix, lil_matrix, identity\n",
    "\n",
    "def edge_check(x,y):\n",
    "    houses_b = [(69,111),(69,264),\n",
    "           (138,12),(138,165),\n",
    "           (192,111),(192,264),\n",
    "           (261,12),(261,165)]\n",
    "    houses_lc = [(69,12),(69,165),\n",
    "              (192,12),(192,165)]\n",
    "  \n",
    "    houses_uc = [(138,51),(138,204),\n",
    "              (261,51),(261,204)]\n",
    "    for house in houses_b:\n",
    "        if house[0] < x and x < house[0] + 18 and house[1] < y and y < house[1] + 18:\n",
    "            return True\n",
    "    for house in houses_lc:\n",
    "        if (house[0] < x and x < house[0] + 18 and house[1] < y and y < house[1] + 78) \\\n",
    "        or (house[0] + 12 < x and x < house[0] + 24 and house[1] < y and y < house[1]+18):\n",
    "            return True\n",
    "    for house in houses_uc:\n",
    "        if (house[0] < x and x < house[0] + 18 and house[1] < y and y < house[1] + 78) \\\n",
    "        or (house[0] - 12 < x and x < house[0] - 12 + 13 and house[1] + 60 < y and y < house[1] + 60 + 18):\n",
    "            return True \n",
    "    if x>299 or y>299 or y == 0:\n",
    "        return True\n",
    "\n",
    "    return False\n",
    "\n",
    "def solve(a1, a2, k, h, m, checker):\n",
    "\n",
    "    M = m * m\n",
    "\n",
    "    x = np.zeros((M, 1))\n",
    "    for i in range(300):\n",
    "        x[300 * i, 0]=1\n",
    "\n",
    "    A = lil_matrix((M, M))\n",
    "\n",
    "    b = np.zeros(M)\n",
    "\n",
    "    dx = [1, -1, 0, 0]\n",
    "    dy = [0, 0, 1, -1]\n",
    "    \n",
    "    u0 = 1-4*(k) / (4 * h**2)\n",
    "    ps = [\n",
    "        k / (4 * h**2) - a1 / (8 * h),\n",
    "        k / (4 * h**2) + a1 / (8 * h),\n",
    "        k/(4 * h**2) - a2 / (8 * h),\n",
    "        k/(4 * h**2) + a2 / (8 * h)\n",
    "    ]\n",
    "\n",
    "    for i in range(0, m): \n",
    "        for e in range(0, m):\n",
    "            ind = i*m+e\n",
    "            A[ind,ind] = u0\n",
    "            for j in range(0, 4):\n",
    "                x1 = i + dx[j]\n",
    "                y1 = e + dy[j]\n",
    "                p = ps[j]\n",
    "\n",
    "                if x1==0:\n",
    "                    b[ind] -= p\n",
    "                elif checker(x1,y1):\n",
    "                    A[ind,ind] += p\n",
    "                else:\n",
    "                    A[ind,x1*300+y1] = p\n",
    "\n",
    "    A = csr_matrix(A)\n",
    "\n",
    "    b = b.reshape(M, -1)\n",
    "    eps = 1e-4\n",
    "    while True:\n",
    "        x_new = (A * x + b)\n",
    "        error = np.max(np.abs(x_new - x))\n",
    "        if error < eps:\n",
    "            break\n",
    "        x = x_new\n",
    "    return x.reshape((300,300))\n"
   ]
  },
  {
   "cell_type": "code",
   "execution_count": 52,
   "metadata": {
    "colab": {
     "base_uri": "https://localhost:8080/",
     "height": 265
    },
    "colab_type": "code",
    "id": "gJ_8n26ziGiL",
    "outputId": "035c5ce3-5e60-4e5c-af4d-3b9b99ee9a67"
   },
   "outputs": [
    {
     "data": {
      "image/png": "[encoded data removed]",
      "text/plain": [
       "<Figure size 432x288 with 1 Axes>"
      ]
     },
     "metadata": {
      "needs_background": "light"
     },
     "output_type": "display_data"
    }
   ],
   "source": [
    "a1 = 1.0\n",
    "a2 = 0\n",
    "k = 0.5\n",
    "h = 1\n",
    "m = 300\n",
    "x_res = solve(a1, a2, k, h, m, edge_check)\n",
    "plt.imshow(1-x_res.T)\n",
    "plt.gca().invert_yaxis()\n",
    "plt.show()"
   ]
  },
  {
   "cell_type": "code",
   "execution_count": null,
   "metadata": {},
   "outputs": [],
   "source": []
  }
 ],
 "metadata": {
  "colab": {
   "collapsed_sections": [],
   "machine_shape": "hm",
   "name": "Copy of Untitled3.ipynb",
   "provenance": []
  },
  "kernelspec": {
   "display_name": "Python 3",
   "language": "python",
   "name": "python3"
  },
  "language_info": {
   "codemirror_mode": {
    "name": "ipython",
    "version": 3
   },
   "file_extension": ".py",
   "mimetype": "text/x-python",
   "name": "python",
   "nbconvert_exporter": "python",
   "pygments_lexer": "ipython3",
   "version": "3.7.3"
  }
 },
 "nbformat": 4,
 "nbformat_minor": 1
}
